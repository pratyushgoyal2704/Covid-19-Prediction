{
 "cells": [
  {
   "cell_type": "code",
   "execution_count": 81,
   "metadata": {},
   "outputs": [],
   "source": [
    "import numpy as np\n",
    "import pandas as pd\n",
    "import matplotlib.pyplot as plt\n",
    "import itertools\n",
    "import statsmodels.api as sm\n"
   ]
  },
  {
   "cell_type": "code",
   "execution_count": 82,
   "metadata": {},
   "outputs": [
    {
     "name": "stdout",
     "output_type": "stream",
     "text": [
      "             Date  Recovered\n",
      "26631  05-01-2020      10007\n",
      "26896  05-02-2020      10819\n",
      "27161  05-03-2020      11775\n",
      "27426  05-04-2020      12847\n",
      "27691  05-05-2020      14142\n",
      "27956  05-06-2020      15331\n",
      "28221  05-07-2020      16776\n",
      "28486  05-08-2020      17887\n",
      "28751  05-09-2020      19301\n",
      "29016  05-10-2020      20969\n",
      "29281  05-11-2020      22549\n",
      "29546  05-12-2020      24420\n",
      "29811     5/13/20      26400\n",
      "30076     5/14/20      27969\n",
      "30341     5/15/20      30258\n",
      "30606     5/16/20      34224\n",
      "30871     5/17/20      36795\n",
      "31136     5/18/20      39233\n",
      "31401     5/19/20      42309\n",
      "31666     5/20/20      45422\n",
      "31931     5/21/20      48553\n",
      "32196     5/22/20      51824\n",
      "32461     5/23/20      54385\n",
      "32726     5/24/20      57692\n",
      "32991     5/25/20      60706\n"
     ]
    }
   ],
   "source": [
    "df_r=pd.read_csv('covid_19_clean_complete.csv')\n",
    "df_r=df_r.loc[df_r['Country'] == 'India']\n",
    "df_r=df_r[['Date','Recovered']]\n",
    "print(df_r[100:])"
   ]
  },
  {
   "cell_type": "code",
   "execution_count": 83,
   "metadata": {},
   "outputs": [
    {
     "name": "stdout",
     "output_type": "stream",
     "text": [
      "             Date  Confirmed\n",
      "26631  05-01-2020      37257\n",
      "26896  05-02-2020      39699\n",
      "27161  05-03-2020      42505\n",
      "27426  05-04-2020      46437\n",
      "27691  05-05-2020      49400\n",
      "27956  05-06-2020      52987\n",
      "28221  05-07-2020      56351\n",
      "28486  05-08-2020      59695\n",
      "28751  05-09-2020      62808\n",
      "29016  05-10-2020      67161\n",
      "29281  05-11-2020      70768\n",
      "29546  05-12-2020      74292\n",
      "29811     5/13/20      78055\n",
      "30076     5/14/20      81997\n",
      "30341     5/15/20      85784\n",
      "30606     5/16/20      90648\n",
      "30871     5/17/20      95698\n",
      "31136     5/18/20     100328\n",
      "31401     5/19/20     106475\n",
      "31666     5/20/20     112028\n",
      "31931     5/21/20     118226\n",
      "32196     5/22/20     124794\n",
      "32461     5/23/20     131423\n",
      "32726     5/24/20     138536\n",
      "32991     5/25/20     144950\n"
     ]
    }
   ],
   "source": [
    "df=pd.read_csv('covid_19_clean_complete.csv')\n",
    "df=df.loc[df['Country'] == 'India']\n",
    "df=df[['Date','Confirmed']]\n",
    "print(df[100:])"
   ]
  },
  {
   "cell_type": "code",
   "execution_count": 84,
   "metadata": {},
   "outputs": [
    {
     "name": "stdout",
     "output_type": "stream",
     "text": [
      "             Date  Deaths\n",
      "26631  05-01-2020    1223\n",
      "26896  05-02-2020    1323\n",
      "27161  05-03-2020    1391\n",
      "27426  05-04-2020    1566\n",
      "27691  05-05-2020    1693\n",
      "27956  05-06-2020    1785\n",
      "28221  05-07-2020    1889\n",
      "28486  05-08-2020    1985\n",
      "28751  05-09-2020    2101\n",
      "29016  05-10-2020    2212\n",
      "29281  05-11-2020    2294\n",
      "29546  05-12-2020    2415\n",
      "29811     5/13/20    2551\n",
      "30076     5/14/20    2649\n",
      "30341     5/15/20    2753\n",
      "30606     5/16/20    2871\n",
      "30871     5/17/20    3025\n",
      "31136     5/18/20    3156\n",
      "31401     5/19/20    3302\n",
      "31666     5/20/20    3434\n",
      "31931     5/21/20    3584\n",
      "32196     5/22/20    3726\n",
      "32461     5/23/20    3868\n",
      "32726     5/24/20    4024\n",
      "32991     5/25/20    4172\n"
     ]
    }
   ],
   "source": [
    "df_d=pd.read_csv('covid_19_clean_complete.csv')\n",
    "df_d=df_d.loc[df_d['Country'] == 'India']\n",
    "df_d=df_d[['Date','Deaths']]\n",
    "print(df_d[100:])"
   ]
  },
  {
   "cell_type": "code",
   "execution_count": 85,
   "metadata": {},
   "outputs": [],
   "source": [
    "deaths=np.asarray(df_d['Deaths'])\n",
    "recovered=np.asarray(df_r['Recovered'])\n",
    "confirmed=np.asarray(df['Confirmed'])"
   ]
  },
  {
   "cell_type": "code",
   "execution_count": 86,
   "metadata": {},
   "outputs": [],
   "source": [
    "##death rate\n",
    "# death_rate=np.divide(deaths,total)\n",
    "# death_rate=death_rate[~np.isnan(death_rate)]\n",
    "# print(np.mean(death_rate))"
   ]
  },
  {
   "cell_type": "code",
   "execution_count": 87,
   "metadata": {},
   "outputs": [
    {
     "name": "stdout",
     "output_type": "stream",
     "text": [
      "[ 4323.    4477.14  4630.68  4786.01  4942.81  5100.5   5259.56  5419.87\n",
      "  5581.35  5744.09  5908.06  6073.25  6239.67  6407.33  6576.21  6746.32\n",
      "  6917.67  7090.24  7264.04  7439.07  7615.34  7792.83  7971.55  8151.5\n",
      "  8332.68  8515.09  8698.73  8883.6   9069.7   9257.03  9445.59  9635.38\n",
      "  9826.4  10018.65 10212.12 10406.83 10602.77 10799.94 10998.33 11197.96\n",
      " 11398.81 11600.9  11804.22 12008.76 12214.54 12421.54 12629.77 12839.24\n",
      " 13049.93 13261.86 13475.01 13689.39 13905.   14121.85 14339.92 14559.22\n",
      " 14779.75 15001.51 15224.5  15448.72 15674.17 15900.85 16128.76 16357.9\n",
      " 16588.27 16819.87 17052.7 ]\n"
     ]
    }
   ],
   "source": [
    "from statsmodels.tsa.arima_model import ARIMA\n",
    "from statsmodels.tsa.arima_model import ARIMAResults\n",
    "from statsmodels.tsa.arima_model import ARIMA\n",
    "mod1 =ARIMA(deaths,order=(2,2,0))\n",
    "results_death=mod1.fit()\n",
    "forecast,x,z=results_death.forecast(steps=67,alpha=0.05)\n",
    "forecast=np.array(forecast).round(2)\n",
    "print(forecast)\n",
    "##forecasted deaths"
   ]
  },
  {
   "cell_type": "code",
   "execution_count": null,
   "metadata": {},
   "outputs": [],
   "source": []
  },
  {
   "cell_type": "code",
   "execution_count": 88,
   "metadata": {},
   "outputs": [
    {
     "data": {
      "text/plain": [
       "Text(0.5, 1.0, 'Recovered cases of Covid-19- Autocorrelation')"
      ]
     },
     "execution_count": 88,
     "metadata": {},
     "output_type": "execute_result"
    },
    {
     "data": {
      "image/png": "[encoded data removed]",
      "text/plain": [
       "<Figure size 432x288 with 1 Axes>"
      ]
     },
     "metadata": {
      "needs_background": "light"
     },
     "output_type": "display_data"
    }
   ],
   "source": [
    "#autocorrelation of recovered\n",
    "from statsmodels.graphics.tsaplots import plot_acf\n",
    "plot_acf(recovered)\n",
    "plt.title('Recovered cases of Covid-19- Autocorrelation')"
   ]
  },
  {
   "cell_type": "code",
   "execution_count": 89,
   "metadata": {},
   "outputs": [
    {
     "data": {
      "text/plain": [
       "Text(0.5, 1.0, 'Recovered cases Covid-19- Parital Autocorrelation')"
      ]
     },
     "execution_count": 89,
     "metadata": {},
     "output_type": "execute_result"
    },
    {
     "data": {
      "image/png": "[encoded data removed]",
      "text/plain": [
       "<Figure size 432x288 with 1 Axes>"
      ]
     },
     "metadata": {
      "needs_background": "light"
     },
     "output_type": "display_data"
    }
   ],
   "source": [
    "from statsmodels.graphics.tsaplots import plot_pacf\n",
    "plot_pacf(recovered,lags=20)\n",
    "plt.title('Recovered cases Covid-19- Parital Autocorrelation')\n",
    "#hence p value is 2 and q is 0"
   ]
  },
  {
   "cell_type": "code",
   "execution_count": 90,
   "metadata": {},
   "outputs": [
    {
     "name": "stdout",
     "output_type": "stream",
     "text": [
      "ARIMA(0, 0, 0)- AIC:2740.9715212851,BIC:2746.628148759705\n",
      "ARIMA(0, 1, 0)- AIC:2044.2365594943647,BIC:2049.877122625575\n",
      "ARIMA(0, 2, 0)- AIC:1717.2457623061828,BIC:1722.8701310169276\n",
      "ARIMA(1, 0, 0)- AIC:2101.9513788401655,BIC:2110.4363200520725\n",
      "ARIMA(1, 1, 0)- AIC:1736.3313344028024,BIC:1744.7921790996174\n",
      "ARIMA(1, 2, 0)- AIC:1703.694246837099,BIC:1712.1307999032163\n",
      "ARIMA(2, 1, 0)- AIC:1724.9861935651832,BIC:1736.2673198276034\n",
      "ARIMA(2, 2, 0)- AIC:1677.4010698217335,BIC:1688.6498072432232\n"
     ]
    }
   ],
   "source": [
    "###RELEVANT for recovered\n",
    "from statsmodels.tsa.arima_model import ARIMA\n",
    "p=range(0,3)\n",
    "d=range(0,3)\n",
    "q=[0]\n",
    "pdq = list(itertools.product(p, d, q))\n",
    "for param in pdq:\n",
    "    try:\n",
    "        mod =ARIMA(recovered,order=param)\n",
    "        results_recovered= mod.fit()\n",
    "        print('ARIMA{}- AIC:{},BIC:{}'.format(param,results_recovered.aic,results_recovered.bic))\n",
    "    except:\n",
    "        continue\n"
   ]
  },
  {
   "cell_type": "code",
   "execution_count": 91,
   "metadata": {},
   "outputs": [
    {
     "name": "stdout",
     "output_type": "stream",
     "text": [
      "[ 63566.53  66687.21  69798.46  72841.57  75970.85  79137.18  82293.2\n",
      "  85485.16  88712.17  91953.19  95219.04  98514.15 101831.29 105171.99\n",
      " 108538.85 111929.86 115344.82 118784.76 122249.26 125738.06 129251.47\n",
      " 132789.46 136351.9  139938.88 143550.4  147186.43 150846.98 154532.06\n",
      " 158241.66 161975.78 165734.42 169517.59 173325.28 177157.49 181014.22\n",
      " 184895.48 188801.25 192731.56 196686.38 200665.73 204669.59 208697.99\n",
      " 212750.9  216828.33 220930.29 225056.77 229207.78 233383.3  237583.35\n",
      " 241807.92 246057.02 250330.63 254628.77 258951.43 263298.61 267670.32\n",
      " 272066.55 276487.3  280932.57 285402.37 289896.69 294415.53 298958.89\n",
      " 303526.77 308119.18 312736.11 317377.57]\n"
     ]
    }
   ],
   "source": [
    "from statsmodels.tsa.arima_model import ARIMA\n",
    "from statsmodels.tsa.arima_model import ARIMAResults\n",
    "from statsmodels.tsa.arima_model import ARIMA\n",
    "mod2 =ARIMA(recovered,order=(2,2,0))\n",
    "results_recovered=mod2.fit()\n",
    "forecast2,x,z=results_recovered.forecast(steps=67,alpha=0.05)\n",
    "#print(forecast2)\n",
    "forecast2=np.array(forecast2).round(2)\n",
    "print(forecast2)\n",
    "##forecasted recoveed"
   ]
  },
  {
   "cell_type": "code",
   "execution_count": 96,
   "metadata": {},
   "outputs": [
    {
     "name": "stdout",
     "output_type": "stream",
     "text": [
      "[151804.3  158515.27 165381.89 172251.   179201.06 186191.88 193244.04\n",
      " 200347.   207506.16 214718.75 221986.2  229307.78 236683.85 244114.22\n",
      " 251599.01 259138.14 266731.66 274379.54 282081.8  289838.43 297649.43\n",
      " 305514.8  313434.55 321408.66 329437.15 337520.01 345657.23 353848.84\n",
      " 362094.81 370395.15 378749.87 387158.95 395622.41 404140.24 412712.45\n",
      " 421339.02 430019.96 438755.28 447544.97 456389.03 465287.46 474240.26\n",
      " 483247.43 492308.98 501424.9  510595.18 519819.84 529098.88 538432.28\n",
      " 547820.05 557262.2  566758.72 576309.61 585914.87 595574.5  605288.5\n",
      " 615056.88 624879.63 634756.74 644688.23 654674.1  664714.33 674808.93\n",
      " 684957.91 695161.26 705418.98 715731.07]\n"
     ]
    }
   ],
   "source": [
    "from statsmodels.tsa.arima_model import ARIMAResults\n",
    "from statsmodels.tsa.arima_model import ARIMA\n",
    "forecast1,x2,z2=results.forecast(steps=67,alpha=0.05)\n",
    "forecast1=np.array(forecast1).round(2)\n",
    "print(forecast1)"
   ]
  },
  {
   "cell_type": "code",
   "execution_count": 79,
   "metadata": {},
   "outputs": [
    {
     "ename": "NameError",
     "evalue": "name 'results' is not defined",
     "output_type": "error",
     "traceback": [
      "\u001b[1;31m---------------------------------------------------------------------------\u001b[0m",
      "\u001b[1;31mNameError\u001b[0m                                 Traceback (most recent call last)",
      "\u001b[1;32m<ipython-input-79-dbbe9bc398a1>\u001b[0m in \u001b[0;36m<module>\u001b[1;34m\u001b[0m\n\u001b[0;32m      1\u001b[0m \u001b[1;32mfrom\u001b[0m \u001b[0mstatsmodels\u001b[0m\u001b[1;33m.\u001b[0m\u001b[0mtsa\u001b[0m\u001b[1;33m.\u001b[0m\u001b[0marima_model\u001b[0m \u001b[1;32mimport\u001b[0m \u001b[0mARIMAResults\u001b[0m\u001b[1;33m\u001b[0m\u001b[1;33m\u001b[0m\u001b[0m\n\u001b[0;32m      2\u001b[0m \u001b[1;32mfrom\u001b[0m \u001b[0mstatsmodels\u001b[0m\u001b[1;33m.\u001b[0m\u001b[0mtsa\u001b[0m\u001b[1;33m.\u001b[0m\u001b[0marima_model\u001b[0m \u001b[1;32mimport\u001b[0m \u001b[0mARIMA\u001b[0m\u001b[1;33m\u001b[0m\u001b[1;33m\u001b[0m\u001b[0m\n\u001b[1;32m----> 3\u001b[1;33m \u001b[0mforecast1\u001b[0m\u001b[1;33m,\u001b[0m\u001b[0mx2\u001b[0m\u001b[1;33m,\u001b[0m\u001b[0mz2\u001b[0m\u001b[1;33m=\u001b[0m\u001b[0mresults\u001b[0m\u001b[1;33m.\u001b[0m\u001b[0mforecast\u001b[0m\u001b[1;33m(\u001b[0m\u001b[0msteps\u001b[0m\u001b[1;33m=\u001b[0m\u001b[1;36m67\u001b[0m\u001b[1;33m,\u001b[0m\u001b[0malpha\u001b[0m\u001b[1;33m=\u001b[0m\u001b[1;36m0.05\u001b[0m\u001b[1;33m)\u001b[0m\u001b[1;33m\u001b[0m\u001b[1;33m\u001b[0m\u001b[0m\n\u001b[0m\u001b[0;32m      4\u001b[0m \u001b[0mprint\u001b[0m\u001b[1;33m(\u001b[0m\u001b[0mforecast1\u001b[0m\u001b[1;33m)\u001b[0m\u001b[1;33m\u001b[0m\u001b[1;33m\u001b[0m\u001b[0m\n",
      "\u001b[1;31mNameError\u001b[0m: name 'results' is not defined"
     ]
    }
   ],
   "source": [
    "from statsmodels.tsa.arima_model import ARIMAResults\n",
    "from statsmodels.tsa.arima_model import ARIMA\n",
    "forecast1,x2,z2=results.forecast(steps=67,alpha=0.05)\n",
    "print(forecast1)"
   ]
  },
  {
   "cell_type": "code",
   "execution_count": 41,
   "metadata": {},
   "outputs": [
    {
     "name": "stdout",
     "output_type": "stream",
     "text": [
      "(67,)\n",
      "(67,)\n"
     ]
    }
   ],
   "source": [
    "print(forecast.shape)\n",
    "print(forecast2.shape)\n",
    "total=np.add(forecast,forecast2)\n"
   ]
  },
  {
   "cell_type": "code",
   "execution_count": 54,
   "metadata": {},
   "outputs": [
    {
     "name": "stdout",
     "output_type": "stream",
     "text": [
      "5.269218527677815\n"
     ]
    }
   ],
   "source": [
    "death_rate1=(np.divide(forecast[21:],total[21:]))*100\n",
    "print(np.mean(death_rate1))"
   ]
  },
  {
   "cell_type": "code",
   "execution_count": 55,
   "metadata": {},
   "outputs": [
    {
     "name": "stdout",
     "output_type": "stream",
     "text": [
      "94.73078147232219\n"
     ]
    }
   ],
   "source": [
    "# recovery_rate=(np.divide(forecast2[21:],total[21:]))*100\n",
    "# print(np.mean(recovery_rate))"
   ]
  },
  {
   "cell_type": "code",
   "execution_count": 102,
   "metadata": {},
   "outputs": [],
   "source": [
    "#recovered\n",
    "x=(forecast2[-1])-(forcast2[21])"
   ]
  },
  {
   "cell_type": "code",
   "execution_count": 103,
   "metadata": {},
   "outputs": [],
   "source": [
    "#total confirmed\n",
    "y=(forecast1[-1])-(forecast1[21])"
   ]
  },
  {
   "cell_type": "code",
   "execution_count": 104,
   "metadata": {},
   "outputs": [
    {
     "name": "stdout",
     "output_type": "stream",
     "text": [
      "44.99775447716885\n"
     ]
    }
   ],
   "source": [
    "recovery_rate=(np.mean(x/y))*100\n",
    "print(recovery_rate)"
   ]
  },
  {
   "cell_type": "code",
   "execution_count": null,
   "metadata": {},
   "outputs": [],
   "source": []
  }
 ],
 "metadata": {
  "kernelspec": {
   "display_name": "Python 3",
   "language": "python",
   "name": "python3"
  },
  "language_info": {
   "codemirror_mode": {
    "name": "ipython",
    "version": 3
   },
   "file_extension": ".py",
   "mimetype": "text/x-python",
   "name": "python",
   "nbconvert_exporter": "python",
   "pygments_lexer": "ipython3",
   "version": "3.7.3"
  }
 },
 "nbformat": 4,
 "nbformat_minor": 2
}
